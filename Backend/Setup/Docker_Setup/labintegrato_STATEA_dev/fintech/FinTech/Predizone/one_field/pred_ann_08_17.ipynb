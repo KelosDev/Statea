{
 "cells": [
  {
   "attachments": {},
   "cell_type": "markdown",
   "metadata": {},
   "source": [
    "# Libraries"
   ]
  },
  {
   "cell_type": "code",
   "execution_count": null,
   "metadata": {},
   "outputs": [],
   "source": [
    "# Data manipulation and plots\n",
    "# ==============================================================================\n",
    "import mysql.connector\n",
    "import pandas as pd\n",
    "import numpy as np\n",
    "import matplotlib.pyplot as plt\n",
    "import seaborn as sns\n",
    "import os\n",
    "# set the default theme of seaborn\n",
    "sns.set_theme()"
   ]
  },
  {
   "cell_type": "code",
   "execution_count": null,
   "metadata": {},
   "outputs": [],
   "source": [
    "# Custom functions\n",
    "# ==============================================================================\n",
    "import db_function_aut as linked\n",
    "import df_modify as mod"
   ]
  },
  {
   "cell_type": "code",
   "execution_count": null,
   "metadata": {},
   "outputs": [],
   "source": [
    "# Modeling and Forecasting\n",
    "# ==============================================================================\n",
    "from sklearn.linear_model import LinearRegression"
   ]
  },
  {
   "attachments": {},
   "cell_type": "markdown",
   "metadata": {},
   "source": [
    "# Data"
   ]
  },
  {
   "cell_type": "code",
   "execution_count": null,
   "metadata": {},
   "outputs": [],
   "source": [
    "table = \"observation_year\"\n",
    "df  = linked.get_dataFrame_by_table(table)\n",
    "print(df['origin_id'].unique())"
   ]
  },
  {
   "cell_type": "code",
   "execution_count": null,
   "metadata": {},
   "outputs": [],
   "source": [
    "df_filtered = df[df.eval(\"accommodation_type_id == 'ALL'  and destination_id == 'ITG2B'  and origin_id == 'GR' and observation_type_id == 'AR'\")]\n",
    "\n",
    "df_filtered.empty"
   ]
  },
  {
   "cell_type": "code",
   "execution_count": null,
   "metadata": {},
   "outputs": [],
   "source": [
    "df_filtered"
   ]
  },
  {
   "cell_type": "code",
   "execution_count": null,
   "metadata": {},
   "outputs": [],
   "source": [
    "data = df_filtered\n",
    "# remove useless columns for the train/test\n",
    "data.drop(['observation_type_id', 'destination_id', 'origin_id', 'accommodation_type_id'], axis=1, inplace=True)\n",
    "data.columns = data.columns.str.replace('observation', 'y')\n",
    "data.columns = data.columns.str.replace('year', 'date')\n",
    "data"
   ]
  },
  {
   "attachments": {},
   "cell_type": "markdown",
   "metadata": {},
   "source": [
    "# Predictions"
   ]
  },
  {
   "cell_type": "code",
   "execution_count": null,
   "metadata": {},
   "outputs": [],
   "source": [
    "# Create a linear regression object\n",
    "reg = LinearRegression()\n",
    "\n",
    "# Divide the data into training and test data\n",
    "x_train = data['date'].values.reshape(-1, 1)\n",
    "y_train = data['y'].values\n",
    "\n",
    "# Train the linear regression model\n",
    "reg.fit(x_train, y_train)\n",
    "\n",
    "# Make a prediction for the year 2025\n",
    "x_test = [[2025]]\n",
    "y_pred = reg.predict(x_test)\n",
    "print(y_pred)\n",
    "\n"
   ]
  }
 ],
 "metadata": {
  "kernelspec": {
   "display_name": "Python 3",
   "language": "python",
   "name": "python3"
  },
  "language_info": {
   "codemirror_mode": {
    "name": "ipython",
    "version": 3
   },
   "file_extension": ".py",
   "mimetype": "text/x-python",
   "name": "python",
   "nbconvert_exporter": "python",
   "pygments_lexer": "ipython3",
   "version": "3.10.9 (tags/v3.10.9:1dd9be6, Dec  6 2022, 20:01:21) [MSC v.1934 64 bit (AMD64)]"
  },
  "orig_nbformat": 4,
  "vscode": {
   "interpreter": {
    "hash": "487573f6083f88ea4e0d70a8f8fa0c2ca2be54f1783392b9422ae7990c630882"
   }
  }
 },
 "nbformat": 4,
 "nbformat_minor": 2
}
