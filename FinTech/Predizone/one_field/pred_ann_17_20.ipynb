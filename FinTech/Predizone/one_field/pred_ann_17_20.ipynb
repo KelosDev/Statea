{
 "cells": [
  {
   "attachments": {},
   "cell_type": "markdown",
   "metadata": {},
   "source": [
    "# Libraries"
   ]
  },
  {
   "cell_type": "code",
   "execution_count": null,
   "metadata": {},
   "outputs": [],
   "source": [
    "# Data manipulation and plots\n",
    "# ==============================================================================\n",
    "import mysql.connector\n",
    "import pandas as pd\n",
    "import numpy as np\n",
    "import matplotlib.pyplot as plt\n",
    "import seaborn as sns\n",
    "import os\n",
    "# set the default theme of seaborn \n",
    "sns.set_theme()"
   ]
  },
  {
   "cell_type": "code",
   "execution_count": null,
   "metadata": {},
   "outputs": [],
   "source": [
    "# Custom functions\n",
    "# ==============================================================================\n",
    "import db_function_aut as linked\n",
    "import df_modify as mod"
   ]
  },
  {
   "cell_type": "code",
   "execution_count": null,
   "metadata": {},
   "outputs": [],
   "source": [
    "# Modeling and Forecasting\n",
    "# ==============================================================================\n",
    "from sklearn.linear_model import LinearRegression"
   ]
  },
  {
   "attachments": {},
   "cell_type": "markdown",
   "metadata": {},
   "source": [
    "# Data"
   ]
  },
  {
   "cell_type": "code",
   "execution_count": null,
   "metadata": {},
   "outputs": [],
   "source": [
    "table = \"observation_year\"\n",
    "df  = linked.get_dataFrame_by_table(table)\n",
    "print(df['origin_id'].unique())"
   ]
  },
  {
   "cell_type": "code",
   "execution_count": null,
   "metadata": {},
   "outputs": [],
   "source": [
    "df_filtered = df[df.eval(\"accommodation_type_id == 'ALL'  and destination_id == 'IT111'  and origin_id == 'DK' and observation_type_id == 'AR'\")]\n",
    "df_filtered = df_filtered.drop(df_filtered.query(\"year == 2021\").index)\n",
    "df_filtered = df_filtered.drop(df_filtered.query(\"year == 2020\").index)\n"
   ]
  },
  {
   "cell_type": "code",
   "execution_count": null,
   "metadata": {},
   "outputs": [],
   "source": [
    "df_filtered"
   ]
  },
  {
   "cell_type": "code",
   "execution_count": null,
   "metadata": {},
   "outputs": [],
   "source": [
    "# remove the covid years\n",
    "df_filtered = df_filtered.drop(df_filtered.query(\"year == 2021\").index)\n",
    "df_filtered = df_filtered.drop(df_filtered.query(\"year == 2020\").index)\n",
    "\n",
    "\n",
    "data = df_filtered\n",
    "# remove useless columns for the train/test\n",
    "data.drop(['observation_type_id', 'destination_id', 'origin_id', 'accommodation_type_id'], axis=1, inplace=True)\n",
    "data.columns = data.columns.str.replace('observation', 'y')\n",
    "data.columns = data.columns.str.replace('year', 'date')\n",
    "data"
   ]
  },
  {
   "attachments": {},
   "cell_type": "markdown",
   "metadata": {},
   "source": [
    "# Predictions"
   ]
  },
  {
   "cell_type": "code",
   "execution_count": null,
   "metadata": {},
   "outputs": [],
   "source": [
    "# Create a linear regression object\n",
    "reg = LinearRegression()\n",
    "\n",
    "# Divide the data into training and test data\n",
    "x_train = data['date'].values.reshape(-1, 1)\n",
    "y_train = data['y'].values\n",
    "\n",
    "# Train the linear regression model\n",
    "reg.fit(x_train, y_train)\n",
    "\n",
    "# Make a prediction for the year 2028\n",
    "x_test = [[2028]]\n",
    "y_pred = reg.predict(x_test)\n",
    "print(y_pred)\n",
    "\n"
   ]
  }
 ],
 "metadata": {
  "kernelspec": {
   "display_name": "Python 3.10.6 64-bit",
   "language": "python",
   "name": "python3"
  },
  "language_info": {
   "codemirror_mode": {
    "name": "ipython",
    "version": 3
   },
   "file_extension": ".py",
   "mimetype": "text/x-python",
   "name": "python",
   "nbconvert_exporter": "python",
   "pygments_lexer": "ipython3",
   "version": "3.10.6"
  },
  "orig_nbformat": 4,
  "vscode": {
   "interpreter": {
    "hash": "31f2aee4e71d21fbe5cf8b01ff0e069b9275f58929596ceb00d14d90e3e16cd6"
   }
  }
 },
 "nbformat": 4,
 "nbformat_minor": 2
}
